{
 "cells": [
  {
   "cell_type": "code",
   "execution_count": 10,
   "id": "8c557360",
   "metadata": {},
   "outputs": [
    {
     "name": "stdout",
     "output_type": "stream",
     "text": [
      "Curriculume_Vitae : ======Curriculume_Vitae======\n",
      "=========================\n",
      "nama : Vincent Wijaya\n",
      "Agama : Buddha\n",
      "=========================\n",
      "Pendidikan_Formal\n",
      "SD_Bruder_Melati : SD_Bruder_Melati (2008-2014)\n",
      "SMP_Bruder : SMP_Bruder (2014-2017)\n",
      "SMA_Santo_Paulus : SMA_Santo_Paulus (2017-2020)\n",
      "=========================\n",
      "Pendidikan_Non_Formal\n",
      "Bimbble_Ganesha_Operation  : Bimbble_Ganesha_Operation (2014-2018)\n",
      "=========================\n",
      "Organisasi_Ekstra_Kurikuler\n",
      "Ketua_Badminton_Sma_Santo_Paulus : Ketua_Badminton_Sma_Santo_Paulus (2018-2020)\n",
      "=========================\n",
      "Kemampuan\n",
      "Menguasai : Olaraga Badminton,Komputer World,Excel dan Power Point\n"
     ]
    }
   ],
   "source": [
    "Curriculume_Vitae =\"======Curriculume_Vitae======\"\n",
    "nama = \"Vincent Wijaya\"\n",
    "Tempat_Tgl_Lahir =\"Pontianak 10 September 2002\"\n",
    "Jenis_kelamin=\"Laki-Laki\"\n",
    "Agama = \"Buddha\"\n",
    "Pendidikan_Formal =\"Pendidikan\"\n",
    "SD_Bruder_Melati =\"SD_Bruder_Melati (2008-2014)\"\n",
    "SMP_Bruder =\"SMP_Bruder (2014-2017)\"\n",
    "SMA_Santo_Paulus =\"SMA_Santo_Paulus (2017-2020)\"\n",
    "Pendidikan_Non_Formal =\"Pendidikan_Non_Formal\"\n",
    "Bimbble_Ganesha_Operation =\"Bimbble_Ganesha_Operation (2014-2018)\"\n",
    "Organisasi_Ekstra_Kurikuler =\"Organisasi_Ekstra_Kurikuler\"\n",
    "Ketua_Badminton_Sma_Santo_Paulus =\"Ketua_Badminton_Sma_Santo_Paulus (2018-2020)\"\n",
    "Kemampuan =\"Kemampuan\"\n",
    "Menguasai =\"Olaraga Badminton,Komputer World,Excel dan Power Point\"\n",
    "#Cetak CV\n",
    "print(\"Curriculume_Vitae :\",Curriculume_Vitae)\n",
    "print(\"=========================\")\n",
    "print(\"nama :\",nama)\n",
    "print(\"Agama :\",Agama)\n",
    "print(\"=========================\")\n",
    "print(\"Pendidikan_Formal\")\n",
    "print(\"SD_Bruder_Melati :\",SD_Bruder_Melati)\n",
    "print(\"SMP_Bruder :\",SMP_Bruder)\n",
    "print(\"SMA_Santo_Paulus :\",SMA_Santo_Paulus)\n",
    "print(\"=========================\")\n",
    "print(\"Pendidikan_Non_Formal\")\n",
    "print(\"Bimbble_Ganesha_Operation  :\",Bimbble_Ganesha_Operation)\n",
    "print(\"=========================\")\n",
    "print(\"Organisasi_Ekstra_Kurikuler\")\n",
    "print(\"Ketua_Badminton_Sma_Santo_Paulus :\",Ketua_Badminton_Sma_Santo_Paulus)\n",
    "print(\"=========================\")\n",
    "print(\"Kemampuan\")\n",
    "print(\"Menguasai :\",Menguasai)\n"
   ]
  },
  {
   "cell_type": "code",
   "execution_count": 8,
   "id": "68df811b",
   "metadata": {},
   "outputs": [
    {
     "name": "stdout",
     "output_type": "stream",
     "text": [
      "========MENGHITUNG LUAS========\n",
      "Masukan Panjang: 10\n",
      "Masukan Lebar: 10\n",
      "Luas Persegi Panjang : 100.0\n",
      "=============================\n"
     ]
    }
   ],
   "source": [
    "print(\"========MENGHITUNG LUAS========\")\n",
    "panjang = float(input(\"Masukan Panjang: \"))\n",
    "lebar = float(input(\"Masukan Lebar: \"))\n",
    "luas = panjang*lebar\n",
    "print(\"Luas Persegi Panjang :\",luas)\n",
    "print(\"================================\")"
   ]
  },
  {
   "cell_type": "code",
   "execution_count": 20,
   "id": "828a5e97",
   "metadata": {},
   "outputs": [
    {
     "name": "stdout",
     "output_type": "stream",
     "text": [
      "================KONVERSI SUHU================\n",
      "silahkan input suhu Celcius : 10\n",
      "ini hasil konversi ke Reamur :  8.0\n",
      "ini hasil konversi ke Fahrenheit :  50.0\n",
      "============================================\n"
     ]
    }
   ],
   "source": [
    "print(\"================KONVERSI SUHU================\")\n",
    "Celcius = float(input(\"silahkan input suhu Celcius : \"))\n",
    "Reamur = (4/5)*Celcius\n",
    "Fahrenheit = (9/5)*Celcius + 32;\n",
    "print (\"ini hasil konversi ke Reamur : \",Reamur)\n",
    "print (\"ini hasil konversi ke Fahrenheit : \",Fahrenheit)\n",
    "print (\"============================================\")"
   ]
  },
  {
   "cell_type": "code",
   "execution_count": 21,
   "id": "cfb6fe29",
   "metadata": {},
   "outputs": [
    {
     "name": "stdout",
     "output_type": "stream",
     "text": [
      "================KONVERSI SUHU REAMUR================\n",
      "silahkan input suhu Reamur : 10\n",
      "ini hasil konversi ke Celcius :  12.5\n",
      "ini hasil konversi ke Fahrenheit :  54.5\n",
      "====================================================\n"
     ]
    }
   ],
   "source": [
    "print(\"================KONVERSI SUHU REAMUR================\")\n",
    "Reamur = float(input(\"silahkan input suhu Reamur : \"))\n",
    "Celcius = (5/4) * Reamur\n",
    "Fahrenheit = (9/4 * Reamur) + 32\n",
    "print (\"ini hasil konversi ke Celcius : \",Celcius)\n",
    "print (\"ini hasil konversi ke Fahrenheit : \",Fahrenheit)\n",
    "print (\"====================================================\")"
   ]
  },
  {
   "cell_type": "code",
   "execution_count": 22,
   "id": "274085ed",
   "metadata": {},
   "outputs": [
    {
     "name": "stdout",
     "output_type": "stream",
     "text": [
      "================KONVERSI SUHU FAHRENHEIT================\n",
      "silahkan input suhu Fahrenheit : 10\n",
      "ini hasil konversi ke Reamur :  -9.777777777777777\n",
      "ini hasil konversi ke Celcius :  -12.222222222222221\n",
      "=======================================================\n"
     ]
    }
   ],
   "source": [
    "print(\"================KONVERSI SUHU FAHRENHEIT================\")\n",
    "Fahrenheit = float(input(\"silahkan input suhu Fahrenheit : \"))\n",
    "Reamur = 4/9 * (Fahrenheit - 32)\n",
    "Celcius = (Fahrenheit - 32) * 5/9\n",
    "print (\"ini hasil konversi ke Reamur : \",Reamur)\n",
    "print (\"ini hasil konversi ke Celcius : \",Celcius)\n",
    "print (\"=======================================================\")"
   ]
  },
  {
   "cell_type": "code",
   "execution_count": 25,
   "id": "2b30a663",
   "metadata": {},
   "outputs": [
    {
     "name": "stdout",
     "output_type": "stream",
     "text": [
      "================KONVERSI WAKTU================\n",
      "silahkan input detik yang diinginkan : 60\n",
      "HASIL Konversi Detik ke MENIT :  60.0\n",
      "HASIL Konversi Detik ke JAM   :  3600.0\n",
      "HASIL Konversi Detik ke HARI  :  86400.0\n",
      "==============================================\n"
     ]
    }
   ],
   "source": [
    "print(\"================KONVERSI WAKTU================\")\n",
    "detik = float(input(\"silahkan input detik yang diinginkan : \"))\n",
    "menit = detik * 1\n",
    "jam = 60 * menit\n",
    "hari = 24 * jam\n",
    "print (\"HASIL Konversi Detik ke MENIT : \",menit)\n",
    "print (\"HASIL Konversi Detik ke JAM   : \",jam)\n",
    "print (\"HASIL Konversi Detik ke HARI  : \",hari)\n",
    "print (\"==============================================\")"
   ]
  },
  {
   "cell_type": "code",
   "execution_count": 26,
   "id": "66d546ac",
   "metadata": {},
   "outputs": [
    {
     "name": "stdout",
     "output_type": "stream",
     "text": [
      "================MENGHITUNG LUAS LINGKARAN================\n",
      "silahkan input jari-jari lingkaran : 10\n",
      "Luas Lingkaran :  314.2857142857143\n",
      "=========================================================\n"
     ]
    }
   ],
   "source": [
    "print(\"================MENGHITUNG LUAS LINGKARAN================\")\n",
    "r = float(input(\"silahkan input jari-jari lingkaran : \"))\n",
    "phi  = 22/7\n",
    "L = phi * (r * r)\n",
    "print (\"Luas Lingkaran : \",L)\n",
    "print (\"=========================================================\")"
   ]
  },
  {
   "cell_type": "code",
   "execution_count": null,
   "id": "d2f267a4",
   "metadata": {},
   "outputs": [],
   "source": []
  }
 ],
 "metadata": {
  "kernelspec": {
   "display_name": "Python 3",
   "language": "python",
   "name": "python3"
  },
  "language_info": {
   "codemirror_mode": {
    "name": "ipython",
    "version": 3
   },
   "file_extension": ".py",
   "mimetype": "text/x-python",
   "name": "python",
   "nbconvert_exporter": "python",
   "pygments_lexer": "ipython3",
   "version": "3.8.8"
  }
 },
 "nbformat": 4,
 "nbformat_minor": 5
}
